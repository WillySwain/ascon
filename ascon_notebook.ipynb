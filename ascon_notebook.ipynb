{
 "cells": [
  {
   "cell_type": "code",
   "execution_count": 1,
   "metadata": {},
   "outputs": [],
   "source": [
    "\n",
    "K = '00000000000000010000001000000011000001000000010100000110000001110000100000001001000010100000101100001100000011010000111000001111'#key 128 bits\n",
    "N = '00000000000000010000001000000011000001000000010100000110000001110000100000001001000010100000101100001100000011010000111000001111' #nonce 128 bits\n",
    "round_constants = [0xf0,0xe1,0xd2,0xc3,0xb4,0xa5,0x96,0x87,0x78,0x69,0x5a,0x4b]\n",
    "A = '00000000000000010000001000000011000001000000010100000110000001110000100000001001000010100000101100001100000011010000111000001111' #associated data arbitrary length\n",
    "# P = #plain text\n",
    "# T = #tag 128 bits\n",
    "# D = #data block 128 bits\n",
    "# pa = #a rounds 12\n",
    "# pb = #b rounds 8\n",
    "rate = 128 #128 bits\n",
    "# capacity = 320 - rate #192\n",
    "# S[5] = []# state 320 bits|\n",
    "IV = 9259414062373011456\n",
    "P8 = 4\n",
    "P12 = 0\n"
   ]
  },
  {
   "cell_type": "code",
   "execution_count": 2,
   "metadata": {},
   "outputs": [],
   "source": [
    "def rotate_right(x, n):\n",
    "    mask = (1 << 64) - 1 \n",
    "    return ((x >> n) | (x << (64 - n))) & mask\n",
    "\n",
    "\n",
    "def bitwise_not(x):\n",
    "    return 0b1111111111111111111111111111111111111111111111111111111111111111-x"
   ]
  },
  {
   "cell_type": "code",
   "execution_count": 3,
   "metadata": {},
   "outputs": [],
   "source": [
    "def permute(S,round_const_index):\n",
    "    if round_const_index >= len(round_constants):\n",
    "        return S\n",
    "    T = [0] * 5\n",
    "\n",
    "    S[2] ^^= round_constants[round_const_index] #XOR round constant\n",
    "    S[0] ^^= S[4]\n",
    "    S[4] ^^= S[3]\n",
    "    S[2] ^^= S[1]\n",
    "\n",
    "    T[0] = S[0] ^^ (bitwise_not(S[1]) & S[2])\n",
    "    T[1] = S[1] ^^ (bitwise_not(S[2]) & S[3])\n",
    "    T[2] = S[2] ^^ (bitwise_not(S[3]) & S[4])\n",
    "    T[3] = S[3] ^^ (bitwise_not(S[4]) & S[0])\n",
    "    T[4] = S[4] ^^ (bitwise_not(S[0]) & S[1])\n",
    "    \n",
    "    T[1] ^^= T[0]\n",
    "    T[0] ^^= T[4]\n",
    "    T[3] ^^= T[2]\n",
    "    T[2] = bitwise_not(T[2])\n",
    "    S[0] = T[0]^^ rotate_right(T[0],19) ^^ rotate_right(T[0],28)\n",
    "    S[1] = T[1]^^ rotate_right(T[1],61) ^^ rotate_right(T[1],39)\n",
    "    S[2] = T[2]^^ rotate_right(T[2],1) ^^ rotate_right(T[2],6)\n",
    "    S[3] = T[3]^^ rotate_right(T[3],10) ^^ rotate_right(T[3],17)\n",
    "    S[4] = T[4]^^ rotate_right(T[4],7) ^^ rotate_right(T[4],41)\n",
    "    \n",
    "    \n",
    "    return permute(S,round_const_index+1)"
   ]
  },
  {
   "cell_type": "code",
   "execution_count": 4,
   "metadata": {},
   "outputs": [],
   "source": [
    "def auth_encrypt(K,N,A,P):\n",
    "    S = [0]*5\n",
    "    K0=int(K[:64],2)\n",
    "    K1=int(K[64:128],2)\n",
    "    N0=int(N[:64],2)\n",
    "    N1=int(N[64:128],2)\n",
    "    S[0] = IV\n",
    "    S[1] = K0\n",
    "    S[2] = K1    \n",
    "    S[3] = N0\n",
    "    S[4] = N1\n",
    "    S=permute(S,P12)\n",
    "    S[3]^^=K0\n",
    "    S[4]^^=K1\n",
    "    #print(bin(S[0]),bin(S[1]),bin(S[2]),bin(S[3]),bin(S[4]))\n",
    "    A_length = len(A)\n",
    "    print(A_length)\n",
    "    if A_length > 0:\n",
    "        while A_length >= rate:\n",
    "            S[0]^^=int(A[:64],2)\n",
    "            S[1]^^=int(A[64:128],2)\n",
    "            print(bin(S[0]),bin(S[1]),bin(S[2]),bin(S[3]),bin(S[4]))\n",
    "            S = permute(S,P8)\n",
    "            A=A[rate:]\n",
    "            A_length-=rate\n",
    "        if A_length >= 32:\n",
    "            S[0] ^^= int(A[:64],2)\n",
    "            S[1] ^^= int(A[64:],2)\n",
    "            S[1] ^^= ((0x80) << (56 - 8 * (A_length-8)))\n",
    "        else:\n",
    "            if A:\n",
    "                S[0] ^^= int(A,2) #in case if A=''\n",
    "            S[0] ^^= ((0x80) << (56 - 8 * (A_length)))\n",
    "        print(bin(S[0]),bin(S[1]),bin(S[2]),bin(S[3]),bin(S[4]))\n",
    "        S=permute(S,4)"
   ]
  },
  {
   "cell_type": "code",
   "execution_count": 5,
   "metadata": {},
   "outputs": [
    {
     "name": "stdout",
     "output_type": "stream",
     "text": [
      "128\n",
      "0b110111001001001000011001111111011010101101100110101010001100111 0b110011100110101000011001101100000111100010010101100111110111101 0b110001110101000001010011011111010111000101010101101001101110000 0b1010001010000010111010010110010010110100101101110101011111101100 0b1110111111001110110011011101011010010010011010111001101101\n",
      "0b1100000011101000011011011100010110011001111011100000100101001011 0b11110000000000001000101010010000101111101010000011010110001 0b1011111000100010101000111100010111001011101110111110000000010001 0b1001110001001100000100011100110111110011000001000101000011011 0b1001111110001111011111100010000010110101011000100010111110110011\n"
     ]
    }
   ],
   "source": [
    "auth_encrypt(K,N,A,0)"
   ]
  },
  {
   "cell_type": "code",
   "execution_count": null,
   "metadata": {},
   "outputs": [],
   "source": []
  }
 ],
 "metadata": {
  "kernelspec": {
   "display_name": "SageMath 9.3",
   "language": "sage",
   "name": "sagemath"
  },
  "language_info": {
   "codemirror_mode": {
    "name": "ipython",
    "version": 3
   },
   "file_extension": ".py",
   "mimetype": "text/x-python",
   "name": "python",
   "nbconvert_exporter": "python",
   "pygments_lexer": "ipython3",
   "version": "3.7.10"
  }
 },
 "nbformat": 4,
 "nbformat_minor": 4
}
